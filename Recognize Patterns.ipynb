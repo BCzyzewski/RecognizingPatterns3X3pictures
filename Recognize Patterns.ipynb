{
 "metadata": {
  "language_info": {
   "codemirror_mode": {
    "name": "ipython",
    "version": 3
   },
   "file_extension": ".py",
   "mimetype": "text/x-python",
   "name": "python",
   "nbconvert_exporter": "python",
   "pygments_lexer": "ipython3",
   "version": "3.8.10"
  },
  "orig_nbformat": 4,
  "kernelspec": {
   "name": "python3",
   "display_name": "Python 3.8.10 64-bit (windows store)"
  },
  "interpreter": {
   "hash": "42abc7a0796920f1d01baf8338ffe39bf9091ab34e7e55619e5c888b8185bf81"
  }
 },
 "nbformat": 4,
 "nbformat_minor": 2,
 "cells": [
  {
   "cell_type": "markdown",
   "source": [
    "## Training a neural networt to recognize patterns in a 9-pixel picture"
   ],
   "metadata": {}
  },
  {
   "cell_type": "code",
   "execution_count": 1,
   "source": [
    "import math\r\n",
    "import matplotlib.pyplot as plt\r\n",
    "import numpy as np\r\n",
    "import random\r\n",
    "\r\n",
    "import tensorflow as tf\r\n",
    "from tensorflow import keras\r\n",
    "from keras.datasets import mnist\r\n",
    "from tensorflow.keras.models import Sequential\r\n",
    "from tensorflow.keras.layers import Dense, Dropout, SimpleRNN, LSTM\r\n",
    "from tensorflow.keras.optimizers import Adagrad, Adam, RMSprop, SGD\r\n",
    "from keras_visualizer import visualizer "
   ],
   "outputs": [],
   "metadata": {}
  },
  {
   "cell_type": "markdown",
   "source": [
    "#### Function to draw 9-pixel pictures"
   ],
   "metadata": {}
  },
  {
   "cell_type": "code",
   "execution_count": 7,
   "source": [
    "def draw_examples(examples, captions=None):\r\n",
    "    '''Takes argument: examples and shows is as plot. Captions to every plot are optional '''\r\n",
    "    plt.figure(figsize=(16, 4))\r\n",
    "    m = len(examples)\r\n",
    "    for i, example in enumerate(examples):\r\n",
    "        plt.subplot(100 + m * 10 + i + 1)\r\n",
    "        plt.imshow(example, cmap=plt.get_cmap('gray'))\r\n",
    "    plt.show()\r\n",
    "    if captions is not None:\r\n",
    "        print(6 * ' ' + (10 * ' ').join(str(captions[i]) for i in range(m)))"
   ],
   "outputs": [],
   "metadata": {}
  },
  {
   "cell_type": "markdown",
   "source": [
    "#### Function that will generate examples for solid, vertical, diagonal and horizontal patterns in a picture"
   ],
   "metadata": {}
  },
  {
   "cell_type": "code",
   "execution_count": 8,
   "source": [
    "def generate_example(description):\r\n",
    "    variant = random.choice([1, 0, -1]) # There are three choices possible\r\n",
    "    if description == 's':  # solid\r\n",
    "        return (variant * np.array([[ 1.0,  1.0, 1.0], [ 1.0,  1.0, 1.0], [ 1.0,  1.0, 1.0]]))\r\n",
    "    elif description == 'v':  # vertical\r\n",
    "        if variant == 1:\r\n",
    "            return (np.array([[ 1.0, -1.0, 1.0], [ 1.0, -1.0, 1.0],[ 1.0, -1.0, 1.0]]))\r\n",
    "        elif variant == 0:\r\n",
    "            return (np.array([[ 1.0, 1.0, -1.0], [ 1.0, 1.0, -1.0],[ 1.0, 1.0, -1.0]]))\r\n",
    "        else:\r\n",
    "            return (np.array([[ -1.0, 1.0, 1.0], [ -1.0, 1.0, 1.0], [-1.0, 1.0, 1.0]]))\r\n",
    "    elif description == 'd':  # diagonal\r\n",
    "        if variant == 0: # Diagonal lines have only two options to be drawn, so \r\n",
    "            variant = random.choice([1, -1])\r\n",
    "        if variant == 1:\r\n",
    "            return (np.array([[ -1.0, 1.0, 1.0], [ 1.0, -1.0, 1.0],[ 1.0, 1.0, -1.0]]))\r\n",
    "        else:\r\n",
    "            return (np.array([[ 1.0, 1.0, -1.0], [ 1.0, -1.0, 1.0], [-1.0, 1.0, 1.0]]))\r\n",
    "    elif description == 'h':  # horizontal\r\n",
    "        if variant == 1:\r\n",
    "            return (np.array([[ -1.0, -1.0, -1.0], [ 1.0, 1.0, 1.0],[ 1.0, 1.0, 1.0]]))\r\n",
    "        elif variant == 0:\r\n",
    "            return (np.array([[ 1.0, 1.0, 1.0], [ -1.0, -1.0, -1.0],[ 1.0, 1.0, 1.0]]))\r\n",
    "        else:\r\n",
    "            return (np.array([[ 1.0, 1.0, 1.0], [ 1.0, 1.0, 1.0], [-1.0, -1.0, -1.0]]))\r\n",
    "    else:\r\n",
    "        return np.array([[random.uniform(-1, 1), random.uniform(-1, 1)],\r\n",
    "                         [random.uniform(-1, 1), random.uniform(-1, 1)],\r\n",
    "                         [random.uniform(-1, 1), random.uniform(-1, 1)]])"
   ],
   "outputs": [],
   "metadata": {}
  },
  {
   "cell_type": "markdown",
   "source": [
    "#### Let's create train and test sets."
   ],
   "metadata": {}
  },
  {
   "cell_type": "code",
   "execution_count": 9,
   "source": [
    "import random\r\n",
    "\r\n",
    "num_classes = 4\r\n",
    "\r\n",
    "trainset_size = 4000\r\n",
    "testset_size = 1000\r\n",
    "\r\n",
    "y4_train = np.array([random.choice(['s', 'v', 'd', 'h']) for i in range(trainset_size)])\r\n",
    "x4_train = np.array([generate_example(desc) for desc in y4_train])\r\n",
    "\r\n",
    "y4_test = np.array([random.choice(['s', 'v', 'd', 'h']) for i in range(testset_size)])\r\n",
    "x4_test = np.array([generate_example(desc) for desc in y4_test])"
   ],
   "outputs": [],
   "metadata": {}
  },
  {
   "cell_type": "markdown",
   "source": [
    "#### An example of 9-pixel pictures and patterns for them"
   ],
   "metadata": {}
  },
  {
   "cell_type": "code",
   "execution_count": 5,
   "source": [
    "draw_examples(x4_train[:7], captions=y4_train)"
   ],
   "outputs": [
    {
     "output_type": "display_data",
     "data": {
      "text/plain": [
       "<Figure size 1152x288 with 7 Axes>"
      ],
      "image/svg+xml": "<?xml version=\"1.0\" encoding=\"utf-8\" standalone=\"no\"?>\r\n<!DOCTYPE svg PUBLIC \"-//W3C//DTD SVG 1.1//EN\"\r\n  \"http://www.w3.org/Graphics/SVG/1.1/DTD/svg11.dtd\">\r\n<!-- Created with matplotlib (https://matplotlib.org/) -->\r\n<svg height=\"139.956174pt\" version=\"1.1\" viewBox=\"0 0 920.5625 139.956174\" width=\"920.5625pt\" xmlns=\"http://www.w3.org/2000/svg\" xmlns:xlink=\"http://www.w3.org/1999/xlink\">\r\n <metadata>\r\n  <rdf:RDF xmlns:cc=\"http://creativecommons.org/ns#\" xmlns:dc=\"http://purl.org/dc/elements/1.1/\" xmlns:rdf=\"http://www.w3.org/1999/02/22-rdf-syntax-ns#\">\r\n   <cc:Work>\r\n    <dc:type rdf:resource=\"http://purl.org/dc/dcmitype/StillImage\"/>\r\n    <dc:date>2021-06-23T16:53:08.495147</dc:date>\r\n    <dc:format>image/svg+xml</dc:format>\r\n    <dc:creator>\r\n     <cc:Agent>\r\n      <dc:title>Matplotlib v3.3.2, https://matplotlib.org/</dc:title>\r\n     </cc:Agent>\r\n    </dc:creator>\r\n   </cc:Work>\r\n  </rdf:RDF>\r\n </metadata>\r\n <defs>\r\n  <style type=\"text/css\">*{stroke-linecap:butt;stroke-linejoin:round;}</style>\r\n </defs>\r\n <g id=\"figure_1\">\r\n  <g id=\"patch_1\">\r\n   <path d=\"M 0 139.956174 \r\nL 920.5625 139.956174 \r\nL 920.5625 0 \r\nL 0 0 \r\nz\r\n\" style=\"fill:none;\"/>\r\n  </g>\r\n  <g id=\"axes_1\">\r\n   <g id=\"patch_2\">\r\n    <path d=\"M 20.5625 116.078049 \r\nL 129.440549 116.078049 \r\nL 129.440549 7.2 \r\nL 20.5625 7.2 \r\nz\r\n\" style=\"fill:#ffffff;\"/>\r\n   </g>\r\n   <g clip-path=\"url(#p441c5bb616)\">\r\n    <image height=\"109\" id=\"imaged3a683c8d6\" transform=\"scale(1 -1)translate(0 -109)\" width=\"109\" x=\"20.5625\" xlink:href=\"data:image/png;base64,\r\niVBORw0KGgoAAAANSUhEUgAAAG0AAABtCAYAAACr+O9WAAABNElEQVR4nO3bsQlDMRAFwZNx/y3LsX9gcCQtzFRwsFz41t57Dz+ttU6f8OV1+gD+J1qQaEGiBYkWJFqQaEGiBYkWJFqQaEGiBYkWJFqQaEGiBYkWJFqQaEGiBYkWJFqQaEGiBYkWJFqQaEGiBYkWJFqQaEGiBYkWJFqQaEHv0wc83bZvnpm5bZbu04JECxItSLQg0YJECxItSLQg0YJECxItSLQg0YJECxItSLQg0YJECxItSLQg0YJECxItSLQg0YJECxItSLQg0YJECxItSLQg0YJECxItSLSgNTNXrcBvG6XfyKcFiRYkWpBoQaIFiRYkWpBoQaIFiRYkWpBoQaIFiRYkWpBoQaIFiRYkWpBoQaIFiRYkWpBoQaIFiRYkWpBoQaIFiRYkWpBoQaIFiRYkWtAHCIML1i7K/1kAAAAASUVORK5CYII=\" y=\"-7.078049\"/>\r\n   </g>\r\n   <g id=\"matplotlib.axis_1\">\r\n    <g id=\"xtick_1\">\r\n     <g id=\"line2d_1\">\r\n      <defs>\r\n       <path d=\"M 0 0 \r\nL 0 3.5 \r\n\" id=\"m68312ec862\" style=\"stroke:#000000;stroke-width:0.8;\"/>\r\n      </defs>\r\n      <g>\r\n       <use style=\"stroke:#000000;stroke-width:0.8;\" x=\"38.708841\" xlink:href=\"#m68312ec862\" y=\"116.078049\"/>\r\n      </g>\r\n     </g>\r\n     <g id=\"text_1\">\r\n      <!-- 0 -->\r\n      <g transform=\"translate(35.527591 130.676486)scale(0.1 -0.1)\">\r\n       <defs>\r\n        <path d=\"M 31.78125 66.40625 \r\nQ 24.171875 66.40625 20.328125 58.90625 \r\nQ 16.5 51.421875 16.5 36.375 \r\nQ 16.5 21.390625 20.328125 13.890625 \r\nQ 24.171875 6.390625 31.78125 6.390625 \r\nQ 39.453125 6.390625 43.28125 13.890625 \r\nQ 47.125 21.390625 47.125 36.375 \r\nQ 47.125 51.421875 43.28125 58.90625 \r\nQ 39.453125 66.40625 31.78125 66.40625 \r\nz\r\nM 31.78125 74.21875 \r\nQ 44.046875 74.21875 50.515625 64.515625 \r\nQ 56.984375 54.828125 56.984375 36.375 \r\nQ 56.984375 17.96875 50.515625 8.265625 \r\nQ 44.046875 -1.421875 31.78125 -1.421875 \r\nQ 19.53125 -1.421875 13.0625 8.265625 \r\nQ 6.59375 17.96875 6.59375 36.375 \r\nQ 6.59375 54.828125 13.0625 64.515625 \r\nQ 19.53125 74.21875 31.78125 74.21875 \r\nz\r\n\" id=\"DejaVuSans-48\"/>\r\n       </defs>\r\n       <use xlink:href=\"#DejaVuSans-48\"/>\r\n      </g>\r\n     </g>\r\n    </g>\r\n    <g id=\"xtick_2\">\r\n     <g id=\"line2d_2\">\r\n      <g>\r\n       <use style=\"stroke:#000000;stroke-width:0.8;\" x=\"75.001524\" xlink:href=\"#m68312ec862\" y=\"116.078049\"/>\r\n      </g>\r\n     </g>\r\n     <g id=\"text_2\">\r\n      <!-- 1 -->\r\n      <g transform=\"translate(71.820274 130.676486)scale(0.1 -0.1)\">\r\n       <defs>\r\n        <path d=\"M 12.40625 8.296875 \r\nL 28.515625 8.296875 \r\nL 28.515625 63.921875 \r\nL 10.984375 60.40625 \r\nL 10.984375 69.390625 \r\nL 28.421875 72.90625 \r\nL 38.28125 72.90625 \r\nL 38.28125 8.296875 \r\nL 54.390625 8.296875 \r\nL 54.390625 0 \r\nL 12.40625 0 \r\nz\r\n\" id=\"DejaVuSans-49\"/>\r\n       </defs>\r\n       <use xlink:href=\"#DejaVuSans-49\"/>\r\n      </g>\r\n     </g>\r\n    </g>\r\n    <g id=\"xtick_3\">\r\n     <g id=\"line2d_3\">\r\n      <g>\r\n       <use style=\"stroke:#000000;stroke-width:0.8;\" x=\"111.294207\" xlink:href=\"#m68312ec862\" y=\"116.078049\"/>\r\n      </g>\r\n     </g>\r\n     <g id=\"text_3\">\r\n      <!-- 2 -->\r\n      <g transform=\"translate(108.112957 130.676486)scale(0.1 -0.1)\">\r\n       <defs>\r\n        <path d=\"M 19.1875 8.296875 \r\nL 53.609375 8.296875 \r\nL 53.609375 0 \r\nL 7.328125 0 \r\nL 7.328125 8.296875 \r\nQ 12.9375 14.109375 22.625 23.890625 \r\nQ 32.328125 33.6875 34.8125 36.53125 \r\nQ 39.546875 41.84375 41.421875 45.53125 \r\nQ 43.3125 49.21875 43.3125 52.78125 \r\nQ 43.3125 58.59375 39.234375 62.25 \r\nQ 35.15625 65.921875 28.609375 65.921875 \r\nQ 23.96875 65.921875 18.8125 64.3125 \r\nQ 13.671875 62.703125 7.8125 59.421875 \r\nL 7.8125 69.390625 \r\nQ 13.765625 71.78125 18.9375 73 \r\nQ 24.125 74.21875 28.421875 74.21875 \r\nQ 39.75 74.21875 46.484375 68.546875 \r\nQ 53.21875 62.890625 53.21875 53.421875 \r\nQ 53.21875 48.921875 51.53125 44.890625 \r\nQ 49.859375 40.875 45.40625 35.40625 \r\nQ 44.1875 33.984375 37.640625 27.21875 \r\nQ 31.109375 20.453125 19.1875 8.296875 \r\nz\r\n\" id=\"DejaVuSans-50\"/>\r\n       </defs>\r\n       <use xlink:href=\"#DejaVuSans-50\"/>\r\n      </g>\r\n     </g>\r\n    </g>\r\n   </g>\r\n   <g id=\"matplotlib.axis_2\">\r\n    <g id=\"ytick_1\">\r\n     <g id=\"line2d_4\">\r\n      <defs>\r\n       <path d=\"M 0 0 \r\nL -3.5 0 \r\n\" id=\"m679ac3e133\" style=\"stroke:#000000;stroke-width:0.8;\"/>\r\n      </defs>\r\n      <g>\r\n       <use style=\"stroke:#000000;stroke-width:0.8;\" x=\"20.5625\" xlink:href=\"#m679ac3e133\" y=\"25.346341\"/>\r\n      </g>\r\n     </g>\r\n     <g id=\"text_4\">\r\n      <!-- 0 -->\r\n      <g transform=\"translate(7.2 29.14556)scale(0.1 -0.1)\">\r\n       <use xlink:href=\"#DejaVuSans-48\"/>\r\n      </g>\r\n     </g>\r\n    </g>\r\n    <g id=\"ytick_2\">\r\n     <g id=\"line2d_5\">\r\n      <g>\r\n       <use style=\"stroke:#000000;stroke-width:0.8;\" x=\"20.5625\" xlink:href=\"#m679ac3e133\" y=\"61.639024\"/>\r\n      </g>\r\n     </g>\r\n     <g id=\"text_5\">\r\n      <!-- 1 -->\r\n      <g transform=\"translate(7.2 65.438243)scale(0.1 -0.1)\">\r\n       <use xlink:href=\"#DejaVuSans-49\"/>\r\n      </g>\r\n     </g>\r\n    </g>\r\n    <g id=\"ytick_3\">\r\n     <g id=\"line2d_6\">\r\n      <g>\r\n       <use style=\"stroke:#000000;stroke-width:0.8;\" x=\"20.5625\" xlink:href=\"#m679ac3e133\" y=\"97.931707\"/>\r\n      </g>\r\n     </g>\r\n     <g id=\"text_6\">\r\n      <!-- 2 -->\r\n      <g transform=\"translate(7.2 101.730926)scale(0.1 -0.1)\">\r\n       <use xlink:href=\"#DejaVuSans-50\"/>\r\n      </g>\r\n     </g>\r\n    </g>\r\n   </g>\r\n   <g id=\"patch_3\">\r\n    <path d=\"M 20.5625 116.078049 \r\nL 20.5625 7.2 \r\n\" style=\"fill:none;stroke:#000000;stroke-linecap:square;stroke-linejoin:miter;stroke-width:0.8;\"/>\r\n   </g>\r\n   <g id=\"patch_4\">\r\n    <path d=\"M 129.440549 116.078049 \r\nL 129.440549 7.2 \r\n\" style=\"fill:none;stroke:#000000;stroke-linecap:square;stroke-linejoin:miter;stroke-width:0.8;\"/>\r\n   </g>\r\n   <g id=\"patch_5\">\r\n    <path d=\"M 20.5625 116.078049 \r\nL 129.440549 116.078049 \r\n\" style=\"fill:none;stroke:#000000;stroke-linecap:square;stroke-linejoin:miter;stroke-width:0.8;\"/>\r\n   </g>\r\n   <g id=\"patch_6\">\r\n    <path d=\"M 20.5625 7.2 \r\nL 129.440549 7.2 \r\n\" style=\"fill:none;stroke:#000000;stroke-linecap:square;stroke-linejoin:miter;stroke-width:0.8;\"/>\r\n   </g>\r\n  </g>\r\n  <g id=\"axes_2\">\r\n   <g id=\"patch_7\">\r\n    <path d=\"M 151.216159 116.078049 \r\nL 260.094207 116.078049 \r\nL 260.094207 7.2 \r\nL 151.216159 7.2 \r\nz\r\n\" style=\"fill:#ffffff;\"/>\r\n   </g>\r\n   <g clip-path=\"url(#p4d8fe57795)\">\r\n    <image height=\"109\" id=\"image5fae66fb33\" transform=\"scale(1 -1)translate(0 -109)\" width=\"109\" x=\"151.216159\" xlink:href=\"data:image/png;base64,\r\niVBORw0KGgoAAAANSUhEUgAAAG0AAABtCAYAAACr+O9WAAABFElEQVR4nO3RwQkAIBDAsNP9d9YZfEkhmaDQNTNnSNm/A3hnWpBpQaYFmRZkWpBpQaYFmRZkWpBpQaYFmRZkWpBpQaYFmRZkWpBpQaYFmRZkWpBpQaYFmRZkWpBpQaYFmRZkWpBpQaYFmRZkWpBpQaYFmRZkWpBpQaYFmRZkWpBpQaYFmRZkWpBpQaYFmRZkWpBpQaYFmRZkWpBpQaYFmRZkWpBpQaYFmRZkWpBpQaYFmRZkWpBpQaYFmRZkWpBpQaYFmRZkWpBpQaYFmRZkWpBpQaYFmRZkWpBpQaYFmRZkWpBpQaYFmRZkWpBpQaYFmRZkWpBpQaYFmRZkWpBpQaYFmRZkWpBpQaYFmRZkWpBpQaYFXVXIAdnNGyaMAAAAAElFTkSuQmCC\" y=\"-7.078049\"/>\r\n   </g>\r\n   <g id=\"matplotlib.axis_3\">\r\n    <g id=\"xtick_4\">\r\n     <g id=\"line2d_7\">\r\n      <g>\r\n       <use style=\"stroke:#000000;stroke-width:0.8;\" x=\"169.3625\" xlink:href=\"#m68312ec862\" y=\"116.078049\"/>\r\n      </g>\r\n     </g>\r\n     <g id=\"text_7\">\r\n      <!-- 0 -->\r\n      <g transform=\"translate(166.18125 130.676486)scale(0.1 -0.1)\">\r\n       <use xlink:href=\"#DejaVuSans-48\"/>\r\n      </g>\r\n     </g>\r\n    </g>\r\n    <g id=\"xtick_5\">\r\n     <g id=\"line2d_8\">\r\n      <g>\r\n       <use style=\"stroke:#000000;stroke-width:0.8;\" x=\"205.655183\" xlink:href=\"#m68312ec862\" y=\"116.078049\"/>\r\n      </g>\r\n     </g>\r\n     <g id=\"text_8\">\r\n      <!-- 1 -->\r\n      <g transform=\"translate(202.473933 130.676486)scale(0.1 -0.1)\">\r\n       <use xlink:href=\"#DejaVuSans-49\"/>\r\n      </g>\r\n     </g>\r\n    </g>\r\n    <g id=\"xtick_6\">\r\n     <g id=\"line2d_9\">\r\n      <g>\r\n       <use style=\"stroke:#000000;stroke-width:0.8;\" x=\"241.947866\" xlink:href=\"#m68312ec862\" y=\"116.078049\"/>\r\n      </g>\r\n     </g>\r\n     <g id=\"text_9\">\r\n      <!-- 2 -->\r\n      <g transform=\"translate(238.766616 130.676486)scale(0.1 -0.1)\">\r\n       <use xlink:href=\"#DejaVuSans-50\"/>\r\n      </g>\r\n     </g>\r\n    </g>\r\n   </g>\r\n   <g id=\"matplotlib.axis_4\">\r\n    <g id=\"ytick_4\">\r\n     <g id=\"line2d_10\">\r\n      <g>\r\n       <use style=\"stroke:#000000;stroke-width:0.8;\" x=\"151.216159\" xlink:href=\"#m679ac3e133\" y=\"25.346341\"/>\r\n      </g>\r\n     </g>\r\n     <g id=\"text_10\">\r\n      <!-- 0 -->\r\n      <g transform=\"translate(137.853659 29.14556)scale(0.1 -0.1)\">\r\n       <use xlink:href=\"#DejaVuSans-48\"/>\r\n      </g>\r\n     </g>\r\n    </g>\r\n    <g id=\"ytick_5\">\r\n     <g id=\"line2d_11\">\r\n      <g>\r\n       <use style=\"stroke:#000000;stroke-width:0.8;\" x=\"151.216159\" xlink:href=\"#m679ac3e133\" y=\"61.639024\"/>\r\n      </g>\r\n     </g>\r\n     <g id=\"text_11\">\r\n      <!-- 1 -->\r\n      <g transform=\"translate(137.853659 65.438243)scale(0.1 -0.1)\">\r\n       <use xlink:href=\"#DejaVuSans-49\"/>\r\n      </g>\r\n     </g>\r\n    </g>\r\n    <g id=\"ytick_6\">\r\n     <g id=\"line2d_12\">\r\n      <g>\r\n       <use style=\"stroke:#000000;stroke-width:0.8;\" x=\"151.216159\" xlink:href=\"#m679ac3e133\" y=\"97.931707\"/>\r\n      </g>\r\n     </g>\r\n     <g id=\"text_12\">\r\n      <!-- 2 -->\r\n      <g transform=\"translate(137.853659 101.730926)scale(0.1 -0.1)\">\r\n       <use xlink:href=\"#DejaVuSans-50\"/>\r\n      </g>\r\n     </g>\r\n    </g>\r\n   </g>\r\n   <g id=\"patch_8\">\r\n    <path d=\"M 151.216159 116.078049 \r\nL 151.216159 7.2 \r\n\" style=\"fill:none;stroke:#000000;stroke-linecap:square;stroke-linejoin:miter;stroke-width:0.8;\"/>\r\n   </g>\r\n   <g id=\"patch_9\">\r\n    <path d=\"M 260.094207 116.078049 \r\nL 260.094207 7.2 \r\n\" style=\"fill:none;stroke:#000000;stroke-linecap:square;stroke-linejoin:miter;stroke-width:0.8;\"/>\r\n   </g>\r\n   <g id=\"patch_10\">\r\n    <path d=\"M 151.216159 116.078049 \r\nL 260.094207 116.078049 \r\n\" style=\"fill:none;stroke:#000000;stroke-linecap:square;stroke-linejoin:miter;stroke-width:0.8;\"/>\r\n   </g>\r\n   <g id=\"patch_11\">\r\n    <path d=\"M 151.216159 7.2 \r\nL 260.094207 7.2 \r\n\" style=\"fill:none;stroke:#000000;stroke-linecap:square;stroke-linejoin:miter;stroke-width:0.8;\"/>\r\n   </g>\r\n  </g>\r\n  <g id=\"axes_3\">\r\n   <g id=\"patch_12\">\r\n    <path d=\"M 281.869817 116.078049 \r\nL 390.747866 116.078049 \r\nL 390.747866 7.2 \r\nL 281.869817 7.2 \r\nz\r\n\" style=\"fill:#ffffff;\"/>\r\n   </g>\r\n   <g clip-path=\"url(#p30a8c2d048)\">\r\n    <image height=\"109\" id=\"image094db7e7c8\" transform=\"scale(1 -1)translate(0 -109)\" width=\"109\" x=\"281.869817\" xlink:href=\"data:image/png;base64,\r\niVBORw0KGgoAAAANSUhEUgAAAG0AAABtCAYAAACr+O9WAAABGklEQVR4nO3RwQnAMAzAQLf77+zM0FcjuJtAoGdmdi6ye1XOld6/A/jOtCDTgkwLMi3ItCDTgkwLMi3ItCDTgkwLMi3ItCDTgkwLMi3ItCDTgkwLMi3ItCDTgkwLMi3ItCDTgkwLMi3ItCDTgkwLMi3ItCDTgkwLMi3ItCDTgkwLMi3ItCDTgkwLMi3ItCDTgkwLMi3ItCDTgkwLMi3ItCDTgkwLMi3ItCDTgkwLMi3ItCDTgkwLMi3ItCDTgkwLMi3ItCDTgkwLMi3ItCDTgkwLMi3ItCDTgkwLMi3ItCDTgkwLMi3ItCDTgkwLMi3ItCDTgkwLMi3ItCDTgkwLMi3ItCDTgkwLMi3ItCDTgkwLMi3ItCDTgkwLOsbBBNZG0QThAAAAAElFTkSuQmCC\" y=\"-7.078049\"/>\r\n   </g>\r\n   <g id=\"matplotlib.axis_5\">\r\n    <g id=\"xtick_7\">\r\n     <g id=\"line2d_13\">\r\n      <g>\r\n       <use style=\"stroke:#000000;stroke-width:0.8;\" x=\"300.016159\" xlink:href=\"#m68312ec862\" y=\"116.078049\"/>\r\n      </g>\r\n     </g>\r\n     <g id=\"text_13\">\r\n      <!-- 0 -->\r\n      <g transform=\"translate(296.834909 130.676486)scale(0.1 -0.1)\">\r\n       <use xlink:href=\"#DejaVuSans-48\"/>\r\n      </g>\r\n     </g>\r\n    </g>\r\n    <g id=\"xtick_8\">\r\n     <g id=\"line2d_14\">\r\n      <g>\r\n       <use style=\"stroke:#000000;stroke-width:0.8;\" x=\"336.308841\" xlink:href=\"#m68312ec862\" y=\"116.078049\"/>\r\n      </g>\r\n     </g>\r\n     <g id=\"text_14\">\r\n      <!-- 1 -->\r\n      <g transform=\"translate(333.127591 130.676486)scale(0.1 -0.1)\">\r\n       <use xlink:href=\"#DejaVuSans-49\"/>\r\n      </g>\r\n     </g>\r\n    </g>\r\n    <g id=\"xtick_9\">\r\n     <g id=\"line2d_15\">\r\n      <g>\r\n       <use style=\"stroke:#000000;stroke-width:0.8;\" x=\"372.601524\" xlink:href=\"#m68312ec862\" y=\"116.078049\"/>\r\n      </g>\r\n     </g>\r\n     <g id=\"text_15\">\r\n      <!-- 2 -->\r\n      <g transform=\"translate(369.420274 130.676486)scale(0.1 -0.1)\">\r\n       <use xlink:href=\"#DejaVuSans-50\"/>\r\n      </g>\r\n     </g>\r\n    </g>\r\n   </g>\r\n   <g id=\"matplotlib.axis_6\">\r\n    <g id=\"ytick_7\">\r\n     <g id=\"line2d_16\">\r\n      <g>\r\n       <use style=\"stroke:#000000;stroke-width:0.8;\" x=\"281.869817\" xlink:href=\"#m679ac3e133\" y=\"25.346341\"/>\r\n      </g>\r\n     </g>\r\n     <g id=\"text_16\">\r\n      <!-- 0 -->\r\n      <g transform=\"translate(268.507317 29.14556)scale(0.1 -0.1)\">\r\n       <use xlink:href=\"#DejaVuSans-48\"/>\r\n      </g>\r\n     </g>\r\n    </g>\r\n    <g id=\"ytick_8\">\r\n     <g id=\"line2d_17\">\r\n      <g>\r\n       <use style=\"stroke:#000000;stroke-width:0.8;\" x=\"281.869817\" xlink:href=\"#m679ac3e133\" y=\"61.639024\"/>\r\n      </g>\r\n     </g>\r\n     <g id=\"text_17\">\r\n      <!-- 1 -->\r\n      <g transform=\"translate(268.507317 65.438243)scale(0.1 -0.1)\">\r\n       <use xlink:href=\"#DejaVuSans-49\"/>\r\n      </g>\r\n     </g>\r\n    </g>\r\n    <g id=\"ytick_9\">\r\n     <g id=\"line2d_18\">\r\n      <g>\r\n       <use style=\"stroke:#000000;stroke-width:0.8;\" x=\"281.869817\" xlink:href=\"#m679ac3e133\" y=\"97.931707\"/>\r\n      </g>\r\n     </g>\r\n     <g id=\"text_18\">\r\n      <!-- 2 -->\r\n      <g transform=\"translate(268.507317 101.730926)scale(0.1 -0.1)\">\r\n       <use xlink:href=\"#DejaVuSans-50\"/>\r\n      </g>\r\n     </g>\r\n    </g>\r\n   </g>\r\n   <g id=\"patch_13\">\r\n    <path d=\"M 281.869817 116.078049 \r\nL 281.869817 7.2 \r\n\" style=\"fill:none;stroke:#000000;stroke-linecap:square;stroke-linejoin:miter;stroke-width:0.8;\"/>\r\n   </g>\r\n   <g id=\"patch_14\">\r\n    <path d=\"M 390.747866 116.078049 \r\nL 390.747866 7.2 \r\n\" style=\"fill:none;stroke:#000000;stroke-linecap:square;stroke-linejoin:miter;stroke-width:0.8;\"/>\r\n   </g>\r\n   <g id=\"patch_15\">\r\n    <path d=\"M 281.869817 116.078049 \r\nL 390.747866 116.078049 \r\n\" style=\"fill:none;stroke:#000000;stroke-linecap:square;stroke-linejoin:miter;stroke-width:0.8;\"/>\r\n   </g>\r\n   <g id=\"patch_16\">\r\n    <path d=\"M 281.869817 7.2 \r\nL 390.747866 7.2 \r\n\" style=\"fill:none;stroke:#000000;stroke-linecap:square;stroke-linejoin:miter;stroke-width:0.8;\"/>\r\n   </g>\r\n  </g>\r\n  <g id=\"axes_4\">\r\n   <g id=\"patch_17\">\r\n    <path d=\"M 412.523476 116.078049 \r\nL 521.401524 116.078049 \r\nL 521.401524 7.2 \r\nL 412.523476 7.2 \r\nz\r\n\" style=\"fill:#ffffff;\"/>\r\n   </g>\r\n   <g clip-path=\"url(#p5653e1f8b8)\">\r\n    <image height=\"109\" id=\"imagea8b7ad1a53\" transform=\"scale(1 -1)translate(0 -109)\" width=\"109\" x=\"412.523476\" xlink:href=\"data:image/png;base64,\r\niVBORw0KGgoAAAANSUhEUgAAAG0AAABtCAYAAACr+O9WAAABG0lEQVR4nO3dsQkAMQwEQfn771muwdGzMFOBYLlYZ3d3SPn+PoB3ogWJFiRakGhBogWJFiRakGhBogWJFiRakGhBogWJFiRakGhBogWJFiRakGhBogWJFiRakGhBogWJFiRakGhBogWJFiRakGhBogWJFiRakGhBogWJFiRakGhBogWJFiRakGhBogWJFiRakGhBogWJFiRakGhBogWJFiRakGhBogWJFiRakGhBogWJFiRakGhBogWJFiRakGhBogWJFiRa0JkZz8ljLC1ItCDRgkQLEi1ItCDRgkQLEi1ItCDRgkQLEi1ItCDRgkQLEi1ItCDRgkQLEi1ItCDRgkQLEi1ItCDRgkQLEi1ItCDRgkQLEi1ItCDRgi5t3gXUAiLGdAAAAABJRU5ErkJggg==\" y=\"-7.078049\"/>\r\n   </g>\r\n   <g id=\"matplotlib.axis_7\">\r\n    <g id=\"xtick_10\">\r\n     <g id=\"line2d_19\">\r\n      <g>\r\n       <use style=\"stroke:#000000;stroke-width:0.8;\" x=\"430.669817\" xlink:href=\"#m68312ec862\" y=\"116.078049\"/>\r\n      </g>\r\n     </g>\r\n     <g id=\"text_19\">\r\n      <!-- 0 -->\r\n      <g transform=\"translate(427.488567 130.676486)scale(0.1 -0.1)\">\r\n       <use xlink:href=\"#DejaVuSans-48\"/>\r\n      </g>\r\n     </g>\r\n    </g>\r\n    <g id=\"xtick_11\">\r\n     <g id=\"line2d_20\">\r\n      <g>\r\n       <use style=\"stroke:#000000;stroke-width:0.8;\" x=\"466.9625\" xlink:href=\"#m68312ec862\" y=\"116.078049\"/>\r\n      </g>\r\n     </g>\r\n     <g id=\"text_20\">\r\n      <!-- 1 -->\r\n      <g transform=\"translate(463.78125 130.676486)scale(0.1 -0.1)\">\r\n       <use xlink:href=\"#DejaVuSans-49\"/>\r\n      </g>\r\n     </g>\r\n    </g>\r\n    <g id=\"xtick_12\">\r\n     <g id=\"line2d_21\">\r\n      <g>\r\n       <use style=\"stroke:#000000;stroke-width:0.8;\" x=\"503.255183\" xlink:href=\"#m68312ec862\" y=\"116.078049\"/>\r\n      </g>\r\n     </g>\r\n     <g id=\"text_21\">\r\n      <!-- 2 -->\r\n      <g transform=\"translate(500.073933 130.676486)scale(0.1 -0.1)\">\r\n       <use xlink:href=\"#DejaVuSans-50\"/>\r\n      </g>\r\n     </g>\r\n    </g>\r\n   </g>\r\n   <g id=\"matplotlib.axis_8\">\r\n    <g id=\"ytick_10\">\r\n     <g id=\"line2d_22\">\r\n      <g>\r\n       <use style=\"stroke:#000000;stroke-width:0.8;\" x=\"412.523476\" xlink:href=\"#m679ac3e133\" y=\"25.346341\"/>\r\n      </g>\r\n     </g>\r\n     <g id=\"text_22\">\r\n      <!-- 0 -->\r\n      <g transform=\"translate(399.160976 29.14556)scale(0.1 -0.1)\">\r\n       <use xlink:href=\"#DejaVuSans-48\"/>\r\n      </g>\r\n     </g>\r\n    </g>\r\n    <g id=\"ytick_11\">\r\n     <g id=\"line2d_23\">\r\n      <g>\r\n       <use style=\"stroke:#000000;stroke-width:0.8;\" x=\"412.523476\" xlink:href=\"#m679ac3e133\" y=\"61.639024\"/>\r\n      </g>\r\n     </g>\r\n     <g id=\"text_23\">\r\n      <!-- 1 -->\r\n      <g transform=\"translate(399.160976 65.438243)scale(0.1 -0.1)\">\r\n       <use xlink:href=\"#DejaVuSans-49\"/>\r\n      </g>\r\n     </g>\r\n    </g>\r\n    <g id=\"ytick_12\">\r\n     <g id=\"line2d_24\">\r\n      <g>\r\n       <use style=\"stroke:#000000;stroke-width:0.8;\" x=\"412.523476\" xlink:href=\"#m679ac3e133\" y=\"97.931707\"/>\r\n      </g>\r\n     </g>\r\n     <g id=\"text_24\">\r\n      <!-- 2 -->\r\n      <g transform=\"translate(399.160976 101.730926)scale(0.1 -0.1)\">\r\n       <use xlink:href=\"#DejaVuSans-50\"/>\r\n      </g>\r\n     </g>\r\n    </g>\r\n   </g>\r\n   <g id=\"patch_18\">\r\n    <path d=\"M 412.523476 116.078049 \r\nL 412.523476 7.2 \r\n\" style=\"fill:none;stroke:#000000;stroke-linecap:square;stroke-linejoin:miter;stroke-width:0.8;\"/>\r\n   </g>\r\n   <g id=\"patch_19\">\r\n    <path d=\"M 521.401524 116.078049 \r\nL 521.401524 7.2 \r\n\" style=\"fill:none;stroke:#000000;stroke-linecap:square;stroke-linejoin:miter;stroke-width:0.8;\"/>\r\n   </g>\r\n   <g id=\"patch_20\">\r\n    <path d=\"M 412.523476 116.078049 \r\nL 521.401524 116.078049 \r\n\" style=\"fill:none;stroke:#000000;stroke-linecap:square;stroke-linejoin:miter;stroke-width:0.8;\"/>\r\n   </g>\r\n   <g id=\"patch_21\">\r\n    <path d=\"M 412.523476 7.2 \r\nL 521.401524 7.2 \r\n\" style=\"fill:none;stroke:#000000;stroke-linecap:square;stroke-linejoin:miter;stroke-width:0.8;\"/>\r\n   </g>\r\n  </g>\r\n  <g id=\"axes_5\">\r\n   <g id=\"patch_22\">\r\n    <path d=\"M 543.177134 116.078049 \r\nL 652.055183 116.078049 \r\nL 652.055183 7.2 \r\nL 543.177134 7.2 \r\nz\r\n\" style=\"fill:#ffffff;\"/>\r\n   </g>\r\n   <g clip-path=\"url(#pd2e5103eba)\">\r\n    <image height=\"109\" id=\"image75b56a8e95\" transform=\"scale(1 -1)translate(0 -109)\" width=\"109\" x=\"543.177134\" xlink:href=\"data:image/png;base64,\r\niVBORw0KGgoAAAANSUhEUgAAAG0AAABtCAYAAACr+O9WAAABFElEQVR4nO3RwQkAIBDAsNP9d9YZfEkhmaDQNTNnSNm/A3hnWpBpQaYFmRZkWpBpQaYFmRZkWpBpQaYFmRZkWpBpQaYFmRZkWpBpQaYFmRZkWpBpQaYFmRZkWpBpQaYFmRZkWpBpQaYFmRZkWpBpQaYFmRZkWpBpQaYFmRZkWpBpQaYFmRZkWpBpQaYFmRZkWpBpQaYFmRZkWpBpQaYFmRZkWpBpQaYFmRZkWpBpQaYFmRZkWpBpQaYFmRZkWpBpQaYFmRZkWpBpQaYFmRZkWpBpQaYFmRZkWpBpQaYFmRZkWpBpQaYFmRZkWpBpQaYFmRZkWpBpQaYFmRZkWpBpQaYFmRZkWpBpQaYFmRZkWpBpQaYFXVXIAdnNGyaMAAAAAElFTkSuQmCC\" y=\"-7.078049\"/>\r\n   </g>\r\n   <g id=\"matplotlib.axis_9\">\r\n    <g id=\"xtick_13\">\r\n     <g id=\"line2d_25\">\r\n      <g>\r\n       <use style=\"stroke:#000000;stroke-width:0.8;\" x=\"561.323476\" xlink:href=\"#m68312ec862\" y=\"116.078049\"/>\r\n      </g>\r\n     </g>\r\n     <g id=\"text_25\">\r\n      <!-- 0 -->\r\n      <g transform=\"translate(558.142226 130.676486)scale(0.1 -0.1)\">\r\n       <use xlink:href=\"#DejaVuSans-48\"/>\r\n      </g>\r\n     </g>\r\n    </g>\r\n    <g id=\"xtick_14\">\r\n     <g id=\"line2d_26\">\r\n      <g>\r\n       <use style=\"stroke:#000000;stroke-width:0.8;\" x=\"597.616159\" xlink:href=\"#m68312ec862\" y=\"116.078049\"/>\r\n      </g>\r\n     </g>\r\n     <g id=\"text_26\">\r\n      <!-- 1 -->\r\n      <g transform=\"translate(594.434909 130.676486)scale(0.1 -0.1)\">\r\n       <use xlink:href=\"#DejaVuSans-49\"/>\r\n      </g>\r\n     </g>\r\n    </g>\r\n    <g id=\"xtick_15\">\r\n     <g id=\"line2d_27\">\r\n      <g>\r\n       <use style=\"stroke:#000000;stroke-width:0.8;\" x=\"633.908841\" xlink:href=\"#m68312ec862\" y=\"116.078049\"/>\r\n      </g>\r\n     </g>\r\n     <g id=\"text_27\">\r\n      <!-- 2 -->\r\n      <g transform=\"translate(630.727591 130.676486)scale(0.1 -0.1)\">\r\n       <use xlink:href=\"#DejaVuSans-50\"/>\r\n      </g>\r\n     </g>\r\n    </g>\r\n   </g>\r\n   <g id=\"matplotlib.axis_10\">\r\n    <g id=\"ytick_13\">\r\n     <g id=\"line2d_28\">\r\n      <g>\r\n       <use style=\"stroke:#000000;stroke-width:0.8;\" x=\"543.177134\" xlink:href=\"#m679ac3e133\" y=\"25.346341\"/>\r\n      </g>\r\n     </g>\r\n     <g id=\"text_28\">\r\n      <!-- 0 -->\r\n      <g transform=\"translate(529.814634 29.14556)scale(0.1 -0.1)\">\r\n       <use xlink:href=\"#DejaVuSans-48\"/>\r\n      </g>\r\n     </g>\r\n    </g>\r\n    <g id=\"ytick_14\">\r\n     <g id=\"line2d_29\">\r\n      <g>\r\n       <use style=\"stroke:#000000;stroke-width:0.8;\" x=\"543.177134\" xlink:href=\"#m679ac3e133\" y=\"61.639024\"/>\r\n      </g>\r\n     </g>\r\n     <g id=\"text_29\">\r\n      <!-- 1 -->\r\n      <g transform=\"translate(529.814634 65.438243)scale(0.1 -0.1)\">\r\n       <use xlink:href=\"#DejaVuSans-49\"/>\r\n      </g>\r\n     </g>\r\n    </g>\r\n    <g id=\"ytick_15\">\r\n     <g id=\"line2d_30\">\r\n      <g>\r\n       <use style=\"stroke:#000000;stroke-width:0.8;\" x=\"543.177134\" xlink:href=\"#m679ac3e133\" y=\"97.931707\"/>\r\n      </g>\r\n     </g>\r\n     <g id=\"text_30\">\r\n      <!-- 2 -->\r\n      <g transform=\"translate(529.814634 101.730926)scale(0.1 -0.1)\">\r\n       <use xlink:href=\"#DejaVuSans-50\"/>\r\n      </g>\r\n     </g>\r\n    </g>\r\n   </g>\r\n   <g id=\"patch_23\">\r\n    <path d=\"M 543.177134 116.078049 \r\nL 543.177134 7.2 \r\n\" style=\"fill:none;stroke:#000000;stroke-linecap:square;stroke-linejoin:miter;stroke-width:0.8;\"/>\r\n   </g>\r\n   <g id=\"patch_24\">\r\n    <path d=\"M 652.055183 116.078049 \r\nL 652.055183 7.2 \r\n\" style=\"fill:none;stroke:#000000;stroke-linecap:square;stroke-linejoin:miter;stroke-width:0.8;\"/>\r\n   </g>\r\n   <g id=\"patch_25\">\r\n    <path d=\"M 543.177134 116.078049 \r\nL 652.055183 116.078049 \r\n\" style=\"fill:none;stroke:#000000;stroke-linecap:square;stroke-linejoin:miter;stroke-width:0.8;\"/>\r\n   </g>\r\n   <g id=\"patch_26\">\r\n    <path d=\"M 543.177134 7.2 \r\nL 652.055183 7.2 \r\n\" style=\"fill:none;stroke:#000000;stroke-linecap:square;stroke-linejoin:miter;stroke-width:0.8;\"/>\r\n   </g>\r\n  </g>\r\n  <g id=\"axes_6\">\r\n   <g id=\"patch_27\">\r\n    <path d=\"M 673.830793 116.078049 \r\nL 782.708841 116.078049 \r\nL 782.708841 7.2 \r\nL 673.830793 7.2 \r\nz\r\n\" style=\"fill:#ffffff;\"/>\r\n   </g>\r\n   <g clip-path=\"url(#p297ca8a3a3)\">\r\n    <image height=\"109\" id=\"image387ffb1487\" transform=\"scale(1 -1)translate(0 -109)\" width=\"109\" x=\"673.830793\" xlink:href=\"data:image/png;base64,\r\niVBORw0KGgoAAAANSUhEUgAAAG0AAABtCAYAAACr+O9WAAABGklEQVR4nO3RwQnAMAzAQLf77+zM0FcjuJtAoGdmdi6ye1XOld6/A/jOtCDTgkwLMi3ItCDTgkwLMi3ItCDTgkwLMi3ItCDTgkwLMi3ItCDTgkwLMi3ItCDTgkwLMi3ItCDTgkwLMi3ItCDTgkwLMi3ItCDTgkwLMi3ItCDTgkwLMi3ItCDTgkwLMi3ItCDTgkwLMi3ItCDTgkwLMi3ItCDTgkwLMi3ItCDTgkwLMi3ItCDTgkwLMi3ItCDTgkwLMi3ItCDTgkwLMi3ItCDTgkwLMi3ItCDTgkwLMi3ItCDTgkwLMi3ItCDTgkwLMi3ItCDTgkwLMi3ItCDTgkwLMi3ItCDTgkwLMi3ItCDTgkwLMi3ItCDTgkwLOsbBBNZG0QThAAAAAElFTkSuQmCC\" y=\"-7.078049\"/>\r\n   </g>\r\n   <g id=\"matplotlib.axis_11\">\r\n    <g id=\"xtick_16\">\r\n     <g id=\"line2d_31\">\r\n      <g>\r\n       <use style=\"stroke:#000000;stroke-width:0.8;\" x=\"691.977134\" xlink:href=\"#m68312ec862\" y=\"116.078049\"/>\r\n      </g>\r\n     </g>\r\n     <g id=\"text_31\">\r\n      <!-- 0 -->\r\n      <g transform=\"translate(688.795884 130.676486)scale(0.1 -0.1)\">\r\n       <use xlink:href=\"#DejaVuSans-48\"/>\r\n      </g>\r\n     </g>\r\n    </g>\r\n    <g id=\"xtick_17\">\r\n     <g id=\"line2d_32\">\r\n      <g>\r\n       <use style=\"stroke:#000000;stroke-width:0.8;\" x=\"728.269817\" xlink:href=\"#m68312ec862\" y=\"116.078049\"/>\r\n      </g>\r\n     </g>\r\n     <g id=\"text_32\">\r\n      <!-- 1 -->\r\n      <g transform=\"translate(725.088567 130.676486)scale(0.1 -0.1)\">\r\n       <use xlink:href=\"#DejaVuSans-49\"/>\r\n      </g>\r\n     </g>\r\n    </g>\r\n    <g id=\"xtick_18\">\r\n     <g id=\"line2d_33\">\r\n      <g>\r\n       <use style=\"stroke:#000000;stroke-width:0.8;\" x=\"764.5625\" xlink:href=\"#m68312ec862\" y=\"116.078049\"/>\r\n      </g>\r\n     </g>\r\n     <g id=\"text_33\">\r\n      <!-- 2 -->\r\n      <g transform=\"translate(761.38125 130.676486)scale(0.1 -0.1)\">\r\n       <use xlink:href=\"#DejaVuSans-50\"/>\r\n      </g>\r\n     </g>\r\n    </g>\r\n   </g>\r\n   <g id=\"matplotlib.axis_12\">\r\n    <g id=\"ytick_16\">\r\n     <g id=\"line2d_34\">\r\n      <g>\r\n       <use style=\"stroke:#000000;stroke-width:0.8;\" x=\"673.830793\" xlink:href=\"#m679ac3e133\" y=\"25.346341\"/>\r\n      </g>\r\n     </g>\r\n     <g id=\"text_34\">\r\n      <!-- 0 -->\r\n      <g transform=\"translate(660.468293 29.14556)scale(0.1 -0.1)\">\r\n       <use xlink:href=\"#DejaVuSans-48\"/>\r\n      </g>\r\n     </g>\r\n    </g>\r\n    <g id=\"ytick_17\">\r\n     <g id=\"line2d_35\">\r\n      <g>\r\n       <use style=\"stroke:#000000;stroke-width:0.8;\" x=\"673.830793\" xlink:href=\"#m679ac3e133\" y=\"61.639024\"/>\r\n      </g>\r\n     </g>\r\n     <g id=\"text_35\">\r\n      <!-- 1 -->\r\n      <g transform=\"translate(660.468293 65.438243)scale(0.1 -0.1)\">\r\n       <use xlink:href=\"#DejaVuSans-49\"/>\r\n      </g>\r\n     </g>\r\n    </g>\r\n    <g id=\"ytick_18\">\r\n     <g id=\"line2d_36\">\r\n      <g>\r\n       <use style=\"stroke:#000000;stroke-width:0.8;\" x=\"673.830793\" xlink:href=\"#m679ac3e133\" y=\"97.931707\"/>\r\n      </g>\r\n     </g>\r\n     <g id=\"text_36\">\r\n      <!-- 2 -->\r\n      <g transform=\"translate(660.468293 101.730926)scale(0.1 -0.1)\">\r\n       <use xlink:href=\"#DejaVuSans-50\"/>\r\n      </g>\r\n     </g>\r\n    </g>\r\n   </g>\r\n   <g id=\"patch_28\">\r\n    <path d=\"M 673.830793 116.078049 \r\nL 673.830793 7.2 \r\n\" style=\"fill:none;stroke:#000000;stroke-linecap:square;stroke-linejoin:miter;stroke-width:0.8;\"/>\r\n   </g>\r\n   <g id=\"patch_29\">\r\n    <path d=\"M 782.708841 116.078049 \r\nL 782.708841 7.2 \r\n\" style=\"fill:none;stroke:#000000;stroke-linecap:square;stroke-linejoin:miter;stroke-width:0.8;\"/>\r\n   </g>\r\n   <g id=\"patch_30\">\r\n    <path d=\"M 673.830793 116.078049 \r\nL 782.708841 116.078049 \r\n\" style=\"fill:none;stroke:#000000;stroke-linecap:square;stroke-linejoin:miter;stroke-width:0.8;\"/>\r\n   </g>\r\n   <g id=\"patch_31\">\r\n    <path d=\"M 673.830793 7.2 \r\nL 782.708841 7.2 \r\n\" style=\"fill:none;stroke:#000000;stroke-linecap:square;stroke-linejoin:miter;stroke-width:0.8;\"/>\r\n   </g>\r\n  </g>\r\n  <g id=\"axes_7\">\r\n   <g id=\"patch_32\">\r\n    <path d=\"M 804.484451 116.078049 \r\nL 913.3625 116.078049 \r\nL 913.3625 7.2 \r\nL 804.484451 7.2 \r\nz\r\n\" style=\"fill:#ffffff;\"/>\r\n   </g>\r\n   <g clip-path=\"url(#p7420398046)\">\r\n    <image height=\"109\" id=\"image759efaa083\" transform=\"scale(1 -1)translate(0 -109)\" width=\"109\" x=\"804.484451\" xlink:href=\"data:image/png;base64,\r\niVBORw0KGgoAAAANSUhEUgAAAG0AAABtCAYAAACr+O9WAAABG0lEQVR4nO3dsQkAMQwEQfn771muwdGzMFOBYLlYZ3d3SPn+PoB3ogWJFiRakGhBogWJFiRakGhBogWJFiRakGhBogWJFiRakGhBogWJFiRakGhBogWJFiRakGhBogWJFiRakGhBogWJFiRakGhBogWJFiRakGhBogWJFiRakGhBogWJFiRakGhBogWJFiRakGhBogWJFiRakGhBogWJFiRakGhBogWJFiRakGhBogWJFiRakGhBogWJFiRakGhBogWJFiRa0JkZz8ljLC1ItCDRgkQLEi1ItCDRgkQLEi1ItCDRgkQLEi1ItCDRgkQLEi1ItCDRgkQLEi1ItCDRgkQLEi1ItCDRgkQLEi1ItCDRgkQLEi1ItCDRgi5t3gXUAiLGdAAAAABJRU5ErkJggg==\" y=\"-7.078049\"/>\r\n   </g>\r\n   <g id=\"matplotlib.axis_13\">\r\n    <g id=\"xtick_19\">\r\n     <g id=\"line2d_37\">\r\n      <g>\r\n       <use style=\"stroke:#000000;stroke-width:0.8;\" x=\"822.630793\" xlink:href=\"#m68312ec862\" y=\"116.078049\"/>\r\n      </g>\r\n     </g>\r\n     <g id=\"text_37\">\r\n      <!-- 0 -->\r\n      <g transform=\"translate(819.449543 130.676486)scale(0.1 -0.1)\">\r\n       <use xlink:href=\"#DejaVuSans-48\"/>\r\n      </g>\r\n     </g>\r\n    </g>\r\n    <g id=\"xtick_20\">\r\n     <g id=\"line2d_38\">\r\n      <g>\r\n       <use style=\"stroke:#000000;stroke-width:0.8;\" x=\"858.923476\" xlink:href=\"#m68312ec862\" y=\"116.078049\"/>\r\n      </g>\r\n     </g>\r\n     <g id=\"text_38\">\r\n      <!-- 1 -->\r\n      <g transform=\"translate(855.742226 130.676486)scale(0.1 -0.1)\">\r\n       <use xlink:href=\"#DejaVuSans-49\"/>\r\n      </g>\r\n     </g>\r\n    </g>\r\n    <g id=\"xtick_21\">\r\n     <g id=\"line2d_39\">\r\n      <g>\r\n       <use style=\"stroke:#000000;stroke-width:0.8;\" x=\"895.216159\" xlink:href=\"#m68312ec862\" y=\"116.078049\"/>\r\n      </g>\r\n     </g>\r\n     <g id=\"text_39\">\r\n      <!-- 2 -->\r\n      <g transform=\"translate(892.034909 130.676486)scale(0.1 -0.1)\">\r\n       <use xlink:href=\"#DejaVuSans-50\"/>\r\n      </g>\r\n     </g>\r\n    </g>\r\n   </g>\r\n   <g id=\"matplotlib.axis_14\">\r\n    <g id=\"ytick_19\">\r\n     <g id=\"line2d_40\">\r\n      <g>\r\n       <use style=\"stroke:#000000;stroke-width:0.8;\" x=\"804.484451\" xlink:href=\"#m679ac3e133\" y=\"25.346341\"/>\r\n      </g>\r\n     </g>\r\n     <g id=\"text_40\">\r\n      <!-- 0 -->\r\n      <g transform=\"translate(791.121951 29.14556)scale(0.1 -0.1)\">\r\n       <use xlink:href=\"#DejaVuSans-48\"/>\r\n      </g>\r\n     </g>\r\n    </g>\r\n    <g id=\"ytick_20\">\r\n     <g id=\"line2d_41\">\r\n      <g>\r\n       <use style=\"stroke:#000000;stroke-width:0.8;\" x=\"804.484451\" xlink:href=\"#m679ac3e133\" y=\"61.639024\"/>\r\n      </g>\r\n     </g>\r\n     <g id=\"text_41\">\r\n      <!-- 1 -->\r\n      <g transform=\"translate(791.121951 65.438243)scale(0.1 -0.1)\">\r\n       <use xlink:href=\"#DejaVuSans-49\"/>\r\n      </g>\r\n     </g>\r\n    </g>\r\n    <g id=\"ytick_21\">\r\n     <g id=\"line2d_42\">\r\n      <g>\r\n       <use style=\"stroke:#000000;stroke-width:0.8;\" x=\"804.484451\" xlink:href=\"#m679ac3e133\" y=\"97.931707\"/>\r\n      </g>\r\n     </g>\r\n     <g id=\"text_42\">\r\n      <!-- 2 -->\r\n      <g transform=\"translate(791.121951 101.730926)scale(0.1 -0.1)\">\r\n       <use xlink:href=\"#DejaVuSans-50\"/>\r\n      </g>\r\n     </g>\r\n    </g>\r\n   </g>\r\n   <g id=\"patch_33\">\r\n    <path d=\"M 804.484451 116.078049 \r\nL 804.484451 7.2 \r\n\" style=\"fill:none;stroke:#000000;stroke-linecap:square;stroke-linejoin:miter;stroke-width:0.8;\"/>\r\n   </g>\r\n   <g id=\"patch_34\">\r\n    <path d=\"M 913.3625 116.078049 \r\nL 913.3625 7.2 \r\n\" style=\"fill:none;stroke:#000000;stroke-linecap:square;stroke-linejoin:miter;stroke-width:0.8;\"/>\r\n   </g>\r\n   <g id=\"patch_35\">\r\n    <path d=\"M 804.484451 116.078049 \r\nL 913.3625 116.078049 \r\n\" style=\"fill:none;stroke:#000000;stroke-linecap:square;stroke-linejoin:miter;stroke-width:0.8;\"/>\r\n   </g>\r\n   <g id=\"patch_36\">\r\n    <path d=\"M 804.484451 7.2 \r\nL 913.3625 7.2 \r\n\" style=\"fill:none;stroke:#000000;stroke-linecap:square;stroke-linejoin:miter;stroke-width:0.8;\"/>\r\n   </g>\r\n  </g>\r\n </g>\r\n <defs>\r\n  <clipPath id=\"p441c5bb616\">\r\n   <rect height=\"108.878049\" width=\"108.878049\" x=\"20.5625\" y=\"7.2\"/>\r\n  </clipPath>\r\n  <clipPath id=\"p4d8fe57795\">\r\n   <rect height=\"108.878049\" width=\"108.878049\" x=\"151.216159\" y=\"7.2\"/>\r\n  </clipPath>\r\n  <clipPath id=\"p30a8c2d048\">\r\n   <rect height=\"108.878049\" width=\"108.878049\" x=\"281.869817\" y=\"7.2\"/>\r\n  </clipPath>\r\n  <clipPath id=\"p5653e1f8b8\">\r\n   <rect height=\"108.878049\" width=\"108.878049\" x=\"412.523476\" y=\"7.2\"/>\r\n  </clipPath>\r\n  <clipPath id=\"pd2e5103eba\">\r\n   <rect height=\"108.878049\" width=\"108.878049\" x=\"543.177134\" y=\"7.2\"/>\r\n  </clipPath>\r\n  <clipPath id=\"p297ca8a3a3\">\r\n   <rect height=\"108.878049\" width=\"108.878049\" x=\"673.830793\" y=\"7.2\"/>\r\n  </clipPath>\r\n  <clipPath id=\"p7420398046\">\r\n   <rect height=\"108.878049\" width=\"108.878049\" x=\"804.484451\" y=\"7.2\"/>\r\n  </clipPath>\r\n </defs>\r\n</svg>\r\n",
      "image/png": "[encoded data removed]"
     },
     "metadata": {
      "needs_background": "light"
     }
    },
    {
     "output_type": "stream",
     "name": "stdout",
     "text": [
      "      d          s          v          h          s          v          h\n"
     ]
    }
   ],
   "metadata": {}
  },
  {
   "cell_type": "markdown",
   "source": [
    "#### Reshape train and test sets so they can be an input"
   ],
   "metadata": {}
  },
  {
   "cell_type": "code",
   "execution_count": 6,
   "source": [
    "x4_train = x4_train.reshape(trainset_size, 9)\r\n",
    "x4_test = x4_test.reshape(testset_size, 9)\r\n",
    "x4_train = x4_train.astype('float32')\r\n",
    "x4_test = x4_test.astype('float32')\r\n",
    "\r\n",
    "y4_train = np.array([{'s': 0, 'v': 1, 'd': 2, 'h': 3}[desc] for desc in y4_train])\r\n",
    "y4_test = np.array([{'s': 0, 'v': 1, 'd': 2, 'h': 3}[desc] for desc in y4_test])\r\n",
    "\r\n",
    "y4_train = keras.utils.to_categorical(y4_train, num_classes)\r\n",
    "y4_test = keras.utils.to_categorical(y4_test, num_classes)"
   ],
   "outputs": [],
   "metadata": {}
  },
  {
   "cell_type": "markdown",
   "source": [
    "## The main function that bulids, trains the model and fits the data.\n",
    "Arguments:\n",
    "<ul>\n",
    "<li>neurons_activation: any number of tuples: (number of neurons in a layer, activation function)</li>\n",
    "<li>num_class: the number of ouput neurons (in this case it is 4 as there are solid, diagonal, vertical and horizontal patterns)</li>\n",
    "<li>set_rand_weights: if True it will set random weights to one on the layers</li>\n",
    "<li>weight_layer: choose one layer that will have random weights</li>\n",
    "</ul>"
   ],
   "metadata": {}
  },
  {
   "cell_type": "code",
   "execution_count": 7,
   "source": [
    "def create_model(*neurons_activation,num_class=4, set_rand_weights=False,weight_layer=None):\r\n",
    "    '''Key function that creates models and trains them. Can add any number of layers.'''\r\n",
    "    global model\r\n",
    "    model = Sequential()\r\n",
    "    for number, (neurons, activation) in enumerate(neurons_activation):\r\n",
    "        if number == 0:\r\n",
    "            model.add(Dense(neurons, activation=activation, input_shape=(9,)))\r\n",
    "        elif number == len(neurons_activation) - 1:\r\n",
    "            model.add(Dense(num_class, activation=activation))\r\n",
    "        else:\r\n",
    "            model.add(Dense(neurons, activation=activation))\r\n",
    "\r\n",
    "    model.compile(loss='categorical_crossentropy',\r\n",
    "                    optimizer=keras.optimizers.RMSprop(),\r\n",
    "                    metrics=['accuracy'])\r\n",
    "    model.summary()\r\n",
    "    model.fit(x4_train, y4_train, epochs=8, validation_data=(x4_test, y4_test))\r\n",
    "\r\n",
    "    # Add random weight\r\n",
    "    if set_rand_weights:\r\n",
    "        assert weight_layer <= len(neurons_activation)\r\n",
    "        shape_weight = model.layers[weight_layer].get_weights()[0].shape\r\n",
    "        global narray\r\n",
    "        narray = np.random.rand(*shape_weight)\r\n",
    "        zeros = np.zeros(shape_weight[1])\r\n",
    "        model.layers[weight_layer].set_weights([narray, zeros])"
   ],
   "outputs": [],
   "metadata": {}
  },
  {
   "cell_type": "markdown",
   "source": [
    "## First instance: standard model\n",
    "4 layers with tanh, tanh, tanh and softmax as activation functions"
   ],
   "metadata": {}
  },
  {
   "cell_type": "code",
   "execution_count": 8,
   "source": [
    "create_model((9,'tanh'),(4,'tanh'),(8,'tanh'),(5,'softmax'))"
   ],
   "outputs": [
    {
     "output_type": "stream",
     "name": "stdout",
     "text": [
      "Model: \"sequential\"\n",
      "_________________________________________________________________\n",
      "Layer (type)                 Output Shape              Param #   \n",
      "=================================================================\n",
      "dense (Dense)                (None, 9)                 90        \n",
      "_________________________________________________________________\n",
      "dense_1 (Dense)              (None, 4)                 40        \n",
      "_________________________________________________________________\n",
      "dense_2 (Dense)              (None, 8)                 40        \n",
      "_________________________________________________________________\n",
      "dense_3 (Dense)              (None, 4)                 36        \n",
      "=================================================================\n",
      "Total params: 206\n",
      "Trainable params: 206\n",
      "Non-trainable params: 0\n",
      "_________________________________________________________________\n",
      "Epoch 1/8\n",
      "125/125 [==============================] - 1s 3ms/step - loss: 1.3187 - accuracy: 0.3842 - val_loss: 1.1735 - val_accuracy: 0.5810\n",
      "Epoch 2/8\n",
      "125/125 [==============================] - 0s 1ms/step - loss: 0.9587 - accuracy: 0.6900 - val_loss: 0.7796 - val_accuracy: 0.7540\n",
      "Epoch 3/8\n",
      "125/125 [==============================] - 0s 1ms/step - loss: 0.6090 - accuracy: 0.8485 - val_loss: 0.4942 - val_accuracy: 0.9140\n",
      "Epoch 4/8\n",
      "125/125 [==============================] - 0s 1ms/step - loss: 0.3766 - accuracy: 0.9595 - val_loss: 0.2893 - val_accuracy: 1.0000\n",
      "Epoch 5/8\n",
      "125/125 [==============================] - 0s 1ms/step - loss: 0.1996 - accuracy: 1.0000 - val_loss: 0.1361 - val_accuracy: 1.0000\n",
      "Epoch 6/8\n",
      "125/125 [==============================] - 0s 1ms/step - loss: 0.0882 - accuracy: 1.0000 - val_loss: 0.0553 - val_accuracy: 1.0000\n",
      "Epoch 7/8\n",
      "125/125 [==============================] - 0s 1ms/step - loss: 0.0347 - accuracy: 1.0000 - val_loss: 0.0204 - val_accuracy: 1.0000\n",
      "Epoch 8/8\n",
      "125/125 [==============================] - 0s 1ms/step - loss: 0.0125 - accuracy: 1.0000 - val_loss: 0.0072 - val_accuracy: 1.0000\n"
     ]
    }
   ],
   "metadata": {}
  },
  {
   "cell_type": "markdown",
   "source": [
    "#### Accuracy is high for the first instance"
   ],
   "metadata": {}
  },
  {
   "cell_type": "code",
   "execution_count": 9,
   "source": [
    "score = model.evaluate(x4_test, y4_test, verbose=0)\r\n",
    "\r\n",
    "print('Test loss: {}'.format(score[0]))\r\n",
    "print('Test accuracy: {}'.format(score[1]))"
   ],
   "outputs": [
    {
     "output_type": "stream",
     "name": "stdout",
     "text": [
      "Test loss: 0.00723942881450057\n",
      "Test accuracy: 1.0\n"
     ]
    }
   ],
   "metadata": {}
  },
  {
   "cell_type": "markdown",
   "source": [
    "## Second instance: changed models (more neurons and different activation functions)\n",
    "4 layers with relu, relu, softmax and softmax as activation functions "
   ],
   "metadata": {}
  },
  {
   "cell_type": "code",
   "execution_count": 39,
   "source": [
    "create_model((9,'relu'),(10,'relu'),(8,'softmax'),(5,'softmax'))"
   ],
   "outputs": [
    {
     "output_type": "stream",
     "name": "stdout",
     "text": [
      "Model: \"sequential_6\"\n",
      "_________________________________________________________________\n",
      "Layer (type)                 Output Shape              Param #   \n",
      "=================================================================\n",
      "dense_24 (Dense)             (None, 9)                 90        \n",
      "_________________________________________________________________\n",
      "dense_25 (Dense)             (None, 10)                100       \n",
      "_________________________________________________________________\n",
      "dense_26 (Dense)             (None, 8)                 88        \n",
      "_________________________________________________________________\n",
      "dense_27 (Dense)             (None, 4)                 36        \n",
      "=================================================================\n",
      "Total params: 314\n",
      "Trainable params: 314\n",
      "Non-trainable params: 0\n",
      "_________________________________________________________________\n",
      "Epoch 1/8\n",
      "125/125 [==============================] - 1s 2ms/step - loss: 1.3275 - accuracy: 0.4642 - val_loss: 1.2443 - val_accuracy: 0.6940\n",
      "Epoch 2/8\n",
      "125/125 [==============================] - 0s 1ms/step - loss: 1.1418 - accuracy: 0.7455 - val_loss: 1.0216 - val_accuracy: 0.7550\n",
      "Epoch 3/8\n",
      "125/125 [==============================] - 0s 1ms/step - loss: 0.9348 - accuracy: 0.7835 - val_loss: 0.8321 - val_accuracy: 0.8210\n",
      "Epoch 4/8\n",
      "125/125 [==============================] - 0s 1ms/step - loss: 0.7708 - accuracy: 0.8923 - val_loss: 0.7024 - val_accuracy: 0.8360\n",
      "Epoch 5/8\n",
      "125/125 [==============================] - 0s 1ms/step - loss: 0.6563 - accuracy: 0.8857 - val_loss: 0.5909 - val_accuracy: 0.9340\n",
      "Epoch 6/8\n",
      "125/125 [==============================] - 0s 1ms/step - loss: 0.5318 - accuracy: 0.9887 - val_loss: 0.4630 - val_accuracy: 1.0000\n",
      "Epoch 7/8\n",
      "125/125 [==============================] - 0s 1ms/step - loss: 0.4210 - accuracy: 1.0000 - val_loss: 0.3730 - val_accuracy: 1.0000\n",
      "Epoch 8/8\n",
      "125/125 [==============================] - 0s 1ms/step - loss: 0.3411 - accuracy: 1.0000 - val_loss: 0.3035 - val_accuracy: 1.0000\n"
     ]
    }
   ],
   "metadata": {}
  },
  {
   "cell_type": "markdown",
   "source": [
    "#### Accuracy is perfect, but test loss is higher than in the first one "
   ],
   "metadata": {}
  },
  {
   "cell_type": "code",
   "execution_count": 40,
   "source": [
    "score = model.evaluate(x4_test, y4_test, verbose=0)\r\n",
    "\r\n",
    "print('Test loss: {}'.format(score[0]))\r\n",
    "print('Test accuracy: {}'.format(score[1]))"
   ],
   "outputs": [
    {
     "output_type": "stream",
     "name": "stdout",
     "text": [
      "Test loss: 0.3035319447517395\n",
      "Test accuracy: 1.0\n"
     ]
    }
   ],
   "metadata": {}
  },
  {
   "cell_type": "markdown",
   "source": [
    "## Third instance: more layers!\n",
    "7 layers with relu, tanh, sigmoid, relu, relu, softmax and softmax as activation functions "
   ],
   "metadata": {}
  },
  {
   "cell_type": "code",
   "execution_count": 41,
   "source": [
    "create_model((9,'relu'),(9,'tanh'),(5,'sigmoid'),(5,'relu'),(10,'relu'),(8,'softmax'),(5,'softmax'))"
   ],
   "outputs": [
    {
     "output_type": "stream",
     "name": "stdout",
     "text": [
      "Model: \"sequential_7\"\n",
      "_________________________________________________________________\n",
      "Layer (type)                 Output Shape              Param #   \n",
      "=================================================================\n",
      "dense_28 (Dense)             (None, 9)                 90        \n",
      "_________________________________________________________________\n",
      "dense_29 (Dense)             (None, 9)                 90        \n",
      "_________________________________________________________________\n",
      "dense_30 (Dense)             (None, 5)                 50        \n",
      "_________________________________________________________________\n",
      "dense_31 (Dense)             (None, 5)                 30        \n",
      "_________________________________________________________________\n",
      "dense_32 (Dense)             (None, 10)                60        \n",
      "_________________________________________________________________\n",
      "dense_33 (Dense)             (None, 8)                 88        \n",
      "_________________________________________________________________\n",
      "dense_34 (Dense)             (None, 4)                 36        \n",
      "=================================================================\n",
      "Total params: 444\n",
      "Trainable params: 444\n",
      "Non-trainable params: 0\n",
      "_________________________________________________________________\n",
      "Epoch 1/8\n",
      "125/125 [==============================] - 2s 5ms/step - loss: 1.3811 - accuracy: 0.2528 - val_loss: 1.3541 - val_accuracy: 0.2490\n",
      "Epoch 2/8\n",
      "125/125 [==============================] - 0s 1ms/step - loss: 1.2799 - accuracy: 0.4027 - val_loss: 1.1920 - val_accuracy: 0.4150\n",
      "Epoch 3/8\n",
      "125/125 [==============================] - 0s 1ms/step - loss: 1.1188 - accuracy: 0.6315 - val_loss: 1.0527 - val_accuracy: 0.9050\n",
      "Epoch 4/8\n",
      "125/125 [==============================] - 0s 1ms/step - loss: 0.9845 - accuracy: 0.8635 - val_loss: 0.9236 - val_accuracy: 0.7390\n",
      "Epoch 5/8\n",
      "125/125 [==============================] - 0s 1ms/step - loss: 0.8557 - accuracy: 0.7525 - val_loss: 0.8027 - val_accuracy: 0.7390\n",
      "Epoch 6/8\n",
      "125/125 [==============================] - 0s 1ms/step - loss: 0.7446 - accuracy: 0.7525 - val_loss: 0.7077 - val_accuracy: 0.7390\n",
      "Epoch 7/8\n",
      "125/125 [==============================] - 0s 2ms/step - loss: 0.6517 - accuracy: 0.7845 - val_loss: 0.6128 - val_accuracy: 1.0000\n",
      "Epoch 8/8\n",
      "125/125 [==============================] - 0s 1ms/step - loss: 0.5507 - accuracy: 1.0000 - val_loss: 0.4988 - val_accuracy: 1.0000\n"
     ]
    }
   ],
   "metadata": {}
  },
  {
   "cell_type": "markdown",
   "source": [
    "#### Test accuracy is high"
   ],
   "metadata": {}
  },
  {
   "cell_type": "code",
   "execution_count": 42,
   "source": [
    "score = model.evaluate(x4_test, y4_test, verbose=0)\n",
    "\n",
    "print('Test loss: {}'.format(score[0]))\n",
    "print('Test accuracy: {}'.format(score[1]))"
   ],
   "outputs": [
    {
     "output_type": "stream",
     "name": "stdout",
     "text": [
      "Test loss: 0.49878063797950745\n",
      "Test accuracy: 1.0\n"
     ]
    }
   ],
   "metadata": {}
  },
  {
   "cell_type": "markdown",
   "source": [
    "## Forth instance: random weights\n",
    "4 layers with tanh, tanh, tanh and softmax as activation functions. Additionaly there are random weights in the first layer"
   ],
   "metadata": {}
  },
  {
   "cell_type": "code",
   "execution_count": 56,
   "source": [
    "create_model((9,'tanh'),(4,'tanh'),(8,'tanh'),(5,'softmax'), set_rand_weights=True,weight_layer=0)"
   ],
   "outputs": [
    {
     "output_type": "stream",
     "name": "stdout",
     "text": [
      "Model: \"sequential_10\"\n",
      "_________________________________________________________________\n",
      "Layer (type)                 Output Shape              Param #   \n",
      "=================================================================\n",
      "dense_43 (Dense)             (None, 9)                 90        \n",
      "_________________________________________________________________\n",
      "dense_44 (Dense)             (None, 4)                 40        \n",
      "_________________________________________________________________\n",
      "dense_45 (Dense)             (None, 8)                 40        \n",
      "_________________________________________________________________\n",
      "dense_46 (Dense)             (None, 4)                 36        \n",
      "=================================================================\n",
      "Total params: 206\n",
      "Trainable params: 206\n",
      "Non-trainable params: 0\n",
      "_________________________________________________________________\n",
      "Epoch 1/8\n",
      "125/125 [==============================] - 1s 5ms/step - loss: 1.1558 - accuracy: 0.5510 - val_loss: 0.9280 - val_accuracy: 0.6940\n",
      "Epoch 2/8\n",
      "125/125 [==============================] - 0s 1ms/step - loss: 0.7793 - accuracy: 0.7393 - val_loss: 0.6373 - val_accuracy: 0.8630\n",
      "Epoch 3/8\n",
      "125/125 [==============================] - 0s 1ms/step - loss: 0.5396 - accuracy: 0.8425 - val_loss: 0.4401 - val_accuracy: 0.8630\n",
      "Epoch 4/8\n",
      "125/125 [==============================] - 0s 1ms/step - loss: 0.3786 - accuracy: 0.9542 - val_loss: 0.3035 - val_accuracy: 1.0000\n",
      "Epoch 5/8\n",
      "125/125 [==============================] - 0s 1ms/step - loss: 0.2448 - accuracy: 1.0000 - val_loss: 0.1790 - val_accuracy: 1.0000\n",
      "Epoch 6/8\n",
      "125/125 [==============================] - 0s 1ms/step - loss: 0.1359 - accuracy: 1.0000 - val_loss: 0.0938 - val_accuracy: 1.0000\n",
      "Epoch 7/8\n",
      "125/125 [==============================] - 0s 1ms/step - loss: 0.0685 - accuracy: 1.0000 - val_loss: 0.0465 - val_accuracy: 1.0000\n",
      "Epoch 8/8\n",
      "125/125 [==============================] - 0s 1ms/step - loss: 0.0331 - accuracy: 1.0000 - val_loss: 0.0222 - val_accuracy: 1.0000\n"
     ]
    }
   ],
   "metadata": {}
  },
  {
   "cell_type": "markdown",
   "source": [
    "#### Accuracy is very low for this one"
   ],
   "metadata": {}
  },
  {
   "cell_type": "code",
   "execution_count": 57,
   "source": [
    "score = model.evaluate(x4_test, y4_test, verbose=0)\n",
    "\n",
    "print('Test loss: {}'.format(score[0]))\n",
    "print('Test accuracy: {}'.format(score[1]))"
   ],
   "outputs": [
    {
     "output_type": "stream",
     "name": "stdout",
     "text": [
      "Test loss: 2.683692693710327\n",
      "Test accuracy: 0.33399999141693115\n"
     ]
    }
   ],
   "metadata": {}
  }
 ]
}